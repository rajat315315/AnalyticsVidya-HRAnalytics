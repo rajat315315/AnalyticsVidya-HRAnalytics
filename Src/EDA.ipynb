{
 "cells": [
  {
   "cell_type": "code",
   "execution_count": null,
   "metadata": {
    "collapsed": true
   },
   "outputs": [],
   "source": [
    "train_file = \"\"\n",
    "test_file = \"\"\n",
    "target_col = \"\""
   ]
  },
  {
   "cell_type": "code",
   "execution_count": null,
   "metadata": {},
   "outputs": [],
   "source": [
    "import pandas as pd\n",
    "import numpy as np\n",
    "import matplotlib.pyplot as plt\n",
    "pd.set_option(\"max_columns\", 500)"
   ]
  },
  {
   "cell_type": "code",
   "execution_count": null,
   "metadata": {},
   "outputs": [],
   "source": [
    "train_df = pd.read_csv(train_file)\n",
    "test_df = pd.read_csv(test_file)\n",
    "target = train_df[target_col]\n",
    "train_df.drop([target_col], inplace=True)\n",
    "total_df = pd.concat([train_df, test_df], axis=0)"
   ]
  },
  {
   "cell_type": "code",
   "execution_count": null,
   "metadata": {},
   "outputs": [],
   "source": [
    "# Columns\n",
    "print(total_df.dtypes)"
   ]
  },
  {
   "cell_type": "code",
   "execution_count": null,
   "metadata": {},
   "outputs": [],
   "source": [
    "# Numerical Variable Analysis\n",
    "\n",
    "print(total_df.describe())"
   ]
  },
  {
   "cell_type": "code",
   "execution_count": null,
   "metadata": {},
   "outputs": [],
   "source": [
    "# Histograms\n",
    "Numerical_cols = [for col in total_df.columns if total_df[col].dtype in ['int64', 'float64']]\n",
    "\n",
    "row = int(np.sqrt(len(Numerical_cols)))\n",
    "plt.figure()\n",
    "i=1\n",
    "for col in Numerical_columns:\n",
    "    plt.subplot(row+1, row, i)\n",
    "    plt.hist(total_df[col], bins=100)\n",
    "    plt.suptitle(col)\n",
    "    i = i+1\n",
    "\n",
    "plt.show()"
   ]
  },
  {
   "cell_type": "code",
   "execution_count": null,
   "metadata": {},
   "outputs": [],
   "source": [
    "# Pearson Correlation\n",
    "sns.heatmap(total_df.corr(), cmap=\"YlGnBu\")"
   ]
  },
  {
   "cell_type": "code",
   "execution_count": null,
   "metadata": {},
   "outputs": [],
   "source": [
    "# Categorical Vairable Analysis\n",
    "\n",
    "Categorical_variables = [for col in total_df.columns if total_df[col].dtype not in ['int64', 'float64']]\n",
    "\n",
    "row = int(np.sqrt(len(Categorical_variables)))\n",
    "plt.figure()\n",
    "i=1\n",
    "for col in Categorical_variables:\n",
    "    plt.subplot(row+1, row, i)\n",
    "    plt.bar(total_df[col].value_counts())\n",
    "    plt.suptitle(col)\n",
    "    i = i+1\n",
    "\n",
    "plt.show()"
   ]
  },
  {
   "cell_type": "code",
   "execution_count": null,
   "metadata": {},
   "outputs": [],
   "source": [
    "# Missing values Analyses\n",
    "\n",
    "print(total_df.isna().sum())"
   ]
  }
 ],
 "metadata": {
  "kernelspec": {
   "display_name": "Python 2",
   "language": "python",
   "name": "python2"
  },
  "language_info": {
   "codemirror_mode": {
    "name": "ipython",
    "version": 2
   },
   "file_extension": ".py",
   "mimetype": "text/x-python",
   "name": "python",
   "nbconvert_exporter": "python",
   "pygments_lexer": "ipython2",
   "version": "2.7.12"
  }
 },
 "nbformat": 4,
 "nbformat_minor": 1
}
